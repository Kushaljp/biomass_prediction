{
 "cells": [
  {
   "cell_type": "code",
   "execution_count": null,
   "id": "622bea4f-eabf-4600-a752-eb442fe07f44",
   "metadata": {},
   "outputs": [],
   "source": []
  },
  {
   "cell_type": "code",
   "execution_count": null,
   "id": "32eca588-838b-4848-a871-6da852ee781c",
   "metadata": {},
   "outputs": [],
   "source": []
  },
  {
   "cell_type": "code",
   "execution_count": 12,
   "id": "1701a9bf-717e-4bee-92ec-b0ed846982a7",
   "metadata": {},
   "outputs": [
    {
     "name": "stdout",
     "output_type": "stream",
     "text": [
      "   Status  origin      zmax     zmean       zsd     zskew     zkurt  \\\n",
      "0       1       0  0.482936  0.393575  0.640931  0.417088  0.000799   \n",
      "1       1       0  0.619445  0.744484  0.669192  0.315335  0.035721   \n",
      "2       1       0  0.590965  0.552324  0.719417  0.387989  0.005110   \n",
      "3       1       0  0.585318  0.735132  0.211343  0.251785  0.194261   \n",
      "4       1       0  0.297815  0.381137  0.203122  0.251367  0.095055   \n",
      "\n",
      "   pzabovezmean  pzabove2       zq5  ...    zpcum1    zpcum2    zpcum3  \\\n",
      "0      0.653559  0.543409  0.000000  ...  0.228816  0.217799  0.216589   \n",
      "1      0.972526  0.832260  0.000000  ...  0.066177  0.098509  0.116252   \n",
      "2      0.749769  0.738540  0.000000  ...  0.217498  0.280967  0.292151   \n",
      "3      0.687752  0.986705  0.679823  ...  0.001473  0.000000  0.000000   \n",
      "4      0.959945  0.893755  0.000000  ...  0.050555  0.047751  0.052850   \n",
      "\n",
      "     zpcum4    zpcum5    zpcum6    zpcum7    zpcum8    zpcum9      Target  \n",
      "0  0.214684  0.208958  0.211244  0.275474  0.485716  0.702998  395.095030  \n",
      "1  0.120479  0.113527  0.112180  0.112576  0.120256  0.182446  846.770732  \n",
      "2  0.288404  0.281392  0.280213  0.282977  0.416297  0.870808  500.279343  \n",
      "3  0.000000  0.010708  0.162536  0.361051  0.722317  0.873967  526.744001  \n",
      "4  0.056430  0.053567  0.110090  0.504414  0.914992  0.984998  327.607715  \n",
      "\n",
      "[5 rows x 38 columns]\n"
     ]
    }
   ],
   "source": [
    "import pandas as pd\n",
    "from sklearn.model_selection import train_test_split\n",
    "\n",
    "# Load the dataset\n",
    "data = pd.read_csv('tvol_lidarLiveP.csv')\n",
    "\n",
    "# Display the first few rows to understand what the data looks like\n",
    "print(data.head())\n",
    "\n",
    "# Assuming the target variable is the last column, adjust if otherwise\n",
    "X = data.iloc[:, :-1]  # Features: all columns except the last one\n",
    "y = data.iloc[:, -1]   # Target: last column\n",
    "\n",
    "# Split the data into training and testing sets\n",
    "X_train, X_test, y_train, y_test = train_test_split(X, y, test_size=0.1, random_state=42)\n"
   ]
  },
  {
   "cell_type": "code",
   "execution_count": 14,
   "id": "11a28f08-8742-4517-8ded-e8db83dd693f",
   "metadata": {},
   "outputs": [],
   "source": [
    "from sklearn.linear_model import LinearRegression\n",
    "from sklearn.ensemble import RandomForestRegressor\n",
    "from sklearn.model_selection import cross_val_score\n",
    "import xgboost as xgb\n",
    "\n",
    "# Initialize the models\n",
    "lr_model = LinearRegression()\n",
    "rf_model = RandomForestRegressor(random_state=42)\n",
    "xgb_model = xgb.XGBRegressor(random_state=42)\n"
   ]
  },
  {
   "cell_type": "code",
   "execution_count": 16,
   "id": "d2bb7d22-ff95-4ece-9698-8bab61f049a1",
   "metadata": {},
   "outputs": [
    {
     "name": "stdout",
     "output_type": "stream",
     "text": [
      "Average R2-score for LinearRegression: 0.614460784807388\n",
      "Average R2-score for RandomForestRegressor: 0.7439567231548766\n",
      "Average R2-score for XGBRegressor: 0.6709056273741324\n"
     ]
    }
   ],
   "source": [
    "from sklearn.metrics import mean_absolute_error, mean_squared_error\n",
    "\n",
    "def evaluate_model(model, X_train, y_train):\n",
    "    scores = cross_val_score(model, X_train, y_train, cv=5, scoring='r2')\n",
    "    print(f\"Average R2-score for {model.__class__.__name__}: {scores.mean()}\")\n",
    "    return scores.mean()\n",
    "\n",
    "# Evaluate each model\n",
    "lr_score = evaluate_model(lr_model, X_train, y_train)\n",
    "rf_score = evaluate_model(rf_model, X_train, y_train)\n",
    "xgb_score = evaluate_model(xgb_model, X_train, y_train)\n"
   ]
  },
  {
   "cell_type": "code",
   "execution_count": 18,
   "id": "03bcbfea-25bb-479e-90b2-c8f864e46fcc",
   "metadata": {},
   "outputs": [],
   "source": [
    "import pickle\n",
    "\n",
    "# Assuming Linear Regression performed the best, adjust based on actual scores\n",
    "best_model = lr_model.fit(X_train, y_train)\n",
    "pickle.dump(best_model, open('LR_Baseline.pkl', 'wb'))\n"
   ]
  },
  {
   "cell_type": "code",
   "execution_count": 20,
   "id": "242a8a44-914b-4f3f-b86e-a7ce23fe1af7",
   "metadata": {},
   "outputs": [
    {
     "name": "stdout",
     "output_type": "stream",
     "text": [
      "MAE: 57.14074194409077, MSE: 5906.6569810718\n"
     ]
    }
   ],
   "source": [
    "# Predict on the training set\n",
    "y_pred = best_model.predict(X_train)\n",
    "\n",
    "# Calculate MAE and MSE\n",
    "mae = mean_absolute_error(y_train, y_pred)\n",
    "mse = mean_squared_error(y_train, y_pred)\n",
    "\n",
    "print(f\"MAE: {mae}, MSE: {mse}\")\n"
   ]
  },
  {
   "cell_type": "markdown",
   "id": "7b2c0b3d-e6f9-44c0-be90-26a28a345fdb",
   "metadata": {},
   "source": [
    "A. Random Forest Feature Importance"
   ]
  },
  {
   "cell_type": "code",
   "execution_count": 22,
   "id": "65741c1d-5084-406c-84ef-adad912f52b5",
   "metadata": {},
   "outputs": [
    {
     "name": "stdout",
     "output_type": "stream",
     "text": [
      "   Feature  Importance\n",
      "21    zq65    0.315345\n",
      "22    zq70    0.130729\n",
      "23    zq75    0.098889\n",
      "24    zq80    0.062002\n",
      "20    zq60    0.061912\n"
     ]
    }
   ],
   "source": [
    "from sklearn.ensemble import RandomForestRegressor\n",
    "\n",
    "# Train the model\n",
    "rf_model = RandomForestRegressor(random_state=42)\n",
    "rf_model.fit(X_train, y_train)\n",
    "\n",
    "# Get feature importances\n",
    "importances = rf_model.feature_importances_\n",
    "\n",
    "# Create a DataFrame for visualization\n",
    "feature_importance_rf = pd.DataFrame({'Feature': X.columns, 'Importance': importances}).sort_values(by='Importance', ascending=False)\n",
    "print(feature_importance_rf.head())\n"
   ]
  },
  {
   "cell_type": "markdown",
   "id": "7c7240e2-535c-4173-b953-7c90bfc9fa49",
   "metadata": {},
   "source": [
    "B. Recursive Feature Elimination with RF"
   ]
  },
  {
   "cell_type": "code",
   "execution_count": 26,
   "id": "9226abc7-e738-4005-ba47-2778183b3101",
   "metadata": {},
   "outputs": [
    {
     "name": "stdout",
     "output_type": "stream",
     "text": [
      "         Feature  Ranking\n",
      "3          zmean        1\n",
      "25          zq85        1\n",
      "23          zq75        1\n",
      "22          zq70        1\n",
      "20          zq60        1\n",
      "21          zq65        1\n",
      "18          zq50        1\n",
      "17          zq45        1\n",
      "24          zq80        1\n",
      "36        zpcum9        1\n",
      "29        zpcum2        2\n",
      "19          zq55        3\n",
      "26          zq90        4\n",
      "15          zq35        5\n",
      "9            zq5        6\n",
      "32        zpcum5        7\n",
      "2           zmax        8\n",
      "13          zq25        9\n",
      "7   pzabovezmean       10\n",
      "35        zpcum8       11\n",
      "10          zq10       12\n",
      "27          zq95       13\n",
      "33        zpcum6       14\n",
      "28        zpcum1       15\n",
      "4            zsd       16\n",
      "16          zq40       17\n",
      "34        zpcum7       18\n",
      "31        zpcum4       19\n",
      "8       pzabove2       20\n",
      "12          zq20       21\n",
      "1         origin       22\n",
      "30        zpcum3       23\n",
      "6          zkurt       24\n",
      "5          zskew       25\n",
      "14          zq30       26\n",
      "11          zq15       27\n",
      "0         Status       28\n"
     ]
    }
   ],
   "source": [
    "from sklearn.feature_selection import RFE\n",
    "\n",
    "# Create the RFE object and rank each pixel\n",
    "rfe = RFE(estimator=rf_model, n_features_to_select=10)  # You can adjust the number of features\n",
    "rfe = rfe.fit(X_train, y_train)\n",
    "\n",
    "# Summarize the selection of the attributes\n",
    "feature_importance_rfe = pd.DataFrame({'Feature': X.columns, 'Ranking': rfe.ranking_})\n",
    "print(feature_importance_rfe.sort_values(by='Ranking'))\n"
   ]
  },
  {
   "cell_type": "markdown",
   "id": "b888acd5-51f9-4d2c-93fc-ab06b64e4834",
   "metadata": {},
   "source": [
    "C. XGBoost Feature Importance"
   ]
  },
  {
   "cell_type": "code",
   "execution_count": 29,
   "id": "50f7efb8-5e3b-48ac-946e-e5d28dd9c0a2",
   "metadata": {},
   "outputs": [
    {
     "name": "stdout",
     "output_type": "stream",
     "text": [
      "   Feature  Importance\n",
      "21    zq65    0.629753\n",
      "22    zq70    0.130930\n",
      "23    zq75    0.082204\n",
      "19    zq55    0.017560\n",
      "17    zq45    0.014145\n"
     ]
    }
   ],
   "source": [
    "import xgboost as xgb\n",
    "\n",
    "# Train the model\n",
    "xgb_model = xgb.XGBRegressor(random_state=42)\n",
    "xgb_model.fit(X_train, y_train)\n",
    "\n",
    "# Get feature importances\n",
    "importance_xgb = xgb_model.feature_importances_\n",
    "\n",
    "# Create a DataFrame for visualization\n",
    "feature_importance_xgb = pd.DataFrame({'Feature': X.columns, 'Importance': importance_xgb}).sort_values(by='Importance', ascending=False)\n",
    "print(feature_importance_xgb.head())\n"
   ]
  },
  {
   "cell_type": "code",
   "execution_count": 31,
   "id": "02de5429-5494-42ec-bd0b-6fcd7a25bb73",
   "metadata": {},
   "outputs": [],
   "source": [
    "feature_importance_rf.to_json('Features_RF_RF.json')\n",
    "feature_importance_rfe.to_json('Features_RFE_RF_RF.json')\n",
    "feature_importance_xgb.to_json('Features_RF_XGB.json')\n"
   ]
  },
  {
   "cell_type": "code",
   "execution_count": 33,
   "id": "be843af7-dbbf-44e5-a457-5319f4ba0c86",
   "metadata": {},
   "outputs": [],
   "source": [
    "# Assuming using Random Forest with selected features\n",
    "selected_features = feature_importance_rf[feature_importance_rf['Importance'] > 0.01]['Feature']  # Adjust threshold as needed\n",
    "X_train_selected = X_train[selected_features]\n",
    "\n",
    "rf_model_selected = RandomForestRegressor(random_state=42)\n",
    "rf_model_selected.fit(X_train_selected, y_train)\n",
    "pickle.dump(rf_model_selected, open('RF_Selected_Features.pkl', 'wb'))\n"
   ]
  },
  {
   "cell_type": "code",
   "execution_count": null,
   "id": "4c110e96-2380-4f6e-a182-ee084f96bb72",
   "metadata": {},
   "outputs": [],
   "source": []
  },
  {
   "cell_type": "code",
   "execution_count": null,
   "id": "d9d31252-8b53-4600-a9dd-1fc1457be507",
   "metadata": {},
   "outputs": [],
   "source": []
  }
 ],
 "metadata": {
  "kernelspec": {
   "display_name": "Python 3 (ipykernel)",
   "language": "python",
   "name": "python3"
  },
  "language_info": {
   "codemirror_mode": {
    "name": "ipython",
    "version": 3
   },
   "file_extension": ".py",
   "mimetype": "text/x-python",
   "name": "python",
   "nbconvert_exporter": "python",
   "pygments_lexer": "ipython3",
   "version": "3.12.7"
  }
 },
 "nbformat": 4,
 "nbformat_minor": 5
}
