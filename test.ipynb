{
 "cells": [
  {
   "cell_type": "code",
   "execution_count": 4,
   "id": "6d600f7f-0f52-4817-8c5e-d9c37fb389c5",
   "metadata": {},
   "outputs": [],
   "source": [
    "import pandas as pd\n",
    "from sklearn.model_selection import train_test_split\n",
    "from sklearn.preprocessing import StandardScaler\n",
    "\n",
    "# Load your dataset\n",
    "data = pd.read_csv('prf_I5_2000_9_norm_landsat8.csv')\n",
    "\n",
    "# Preprocessing steps\n",
    "data.ffill(inplace=True)  # Forward fill for handling missing values\n",
    "data = pd.get_dummies(data)  # Convert categorical variables to dummy/indicator variables\n",
    "\n",
    "# Split the data into training and validation sets\n",
    "train_val_data, test_data = train_test_split(data, test_size=0.1, random_state=42)\n"
   ]
  },
  {
   "cell_type": "code",
   "execution_count": 8,
   "id": "5cd8a08b-d447-4500-a528-0b2ec014ce6b",
   "metadata": {},
   "outputs": [
    {
     "name": "stdout",
     "output_type": "stream",
     "text": [
      "Index(['area', 'age', 'site_index', 'band1_mean', 'band2_mean', 'band3_mean',\n",
      "       'band4_mean', 'band5_mean', 'band7_mean', 'Target'],\n",
      "      dtype='object')\n",
      "Error: 'target_column' not found in the DataFrame.\n"
     ]
    }
   ],
   "source": [
    "# Check the columns in the DataFrame to ensure 'target_column' exists\n",
    "print(train_val_data.columns)\n",
    "\n",
    "# Initialize the feature selector with the f_classif function and a suitable k value\n",
    "selector = SelectKBest(score_func=f_classif, k=10)\n",
    "\n",
    "# Ensure 'target_column' exists before attempting to drop it\n",
    "if 'target_column' in train_val_data.columns:\n",
    "    # Fit and transform the training data\n",
    "    X_train_selected = selector.fit_transform(train_val_data.drop('target_column', axis=1), train_val_data['target_column'])\n",
    "else:\n",
    "    print(\"Error: 'target_column' not found in the DataFrame.\")"
   ]
  },
  {
   "cell_type": "code",
   "execution_count": 2,
   "id": "6ae197af-66f9-4f7b-92ff-f7d65712a4eb",
   "metadata": {},
   "outputs": [],
   "source": [
    "import numpy as np\n",
    "import pandas as pd\n",
    "import matplotlib.pyplot as plt\n",
    "import seaborn as sns\n",
    "import pickle\n",
    "import json\n",
    "from sklearn.model_selection import train_test_split, cross_val_score, KFold\n",
    "from sklearn.metrics import mean_absolute_error, mean_squared_error, r2_score\n",
    "from sklearn.linear_model import LinearRegression\n",
    "from sklearn.ensemble import RandomForestRegressor\n",
    "from sklearn.feature_selection import RFE\n",
    "from xgboost import XGBRegressor\n"
   ]
  },
  {
   "cell_type": "code",
   "execution_count": 10,
   "id": "7c9e33cb-52c4-4a01-af2a-d90058be086a",
   "metadata": {},
   "outputs": [
    {
     "name": "stdout",
     "output_type": "stream",
     "text": [
      "Available columns: ['Status', 'origin', 'zmax', 'zmean', 'zsd', 'zskew', 'zkurt', 'pzabovezmean', 'pzabove2', 'zq5', 'zq10', 'zq15', 'zq20', 'zq25', 'zq30', 'zq35', 'zq40', 'zq45', 'zq50', 'zq55', 'zq60', 'zq65', 'zq70', 'zq75', 'zq80', 'zq85', 'zq90', 'zq95', 'zpcum1', 'zpcum2', 'zpcum3', 'zpcum4', 'zpcum5', 'zpcum6', 'zpcum7', 'zpcum8', 'zpcum9', 'Target']\n"
     ]
    }
   ],
   "source": [
    "# Load dataset\n",
    "data = pd.read_csv('tvol_lidarLiveP.csv')\n",
    "\n",
    "# Print column names to see available columns\n",
    "print(\"Available columns:\", list(data.columns))\n",
    "\n",
    "# Define features and target\n",
    "# Replace 'actual_target_column_name' with the correct column name from your dataset\n",
    "target_column = 'Target'  # modify this line with your actual target column name\n",
    "X = data.drop(target_column, axis=1)\n",
    "y = data[target_column]\n",
    "\n",
    "# Split data into training and validation (90% train, 10% test)\n",
    "X_train, X_test, y_train, y_test = train_test_split(X, y, test_size=0.1, random_state=42)"
   ]
  },
  {
   "cell_type": "code",
   "execution_count": 12,
   "id": "0c417553-f051-4e1b-86ba-0359011efbda",
   "metadata": {},
   "outputs": [
    {
     "name": "stdout",
     "output_type": "stream",
     "text": [
      "LinearRegression - MAE: 57.14074194409077, MSE: 5906.6569810718, R2-Score: 0.8001084057496105\n",
      "RandomForest - MAE: 22.529388103405797, MSE: 1028.20205988672, R2-Score: 0.965203845488079\n",
      "XGBoost - MAE: 0.0017618643463130654, MSE: 6.6657112882547814e-06, R2-Score: 0.9999999997744207\n"
     ]
    }
   ],
   "source": [
    "# Models to evaluate\n",
    "models = {\n",
    "    'LinearRegression': LinearRegression(),\n",
    "    'RandomForest': RandomForestRegressor(),\n",
    "    'XGBoost': XGBRegressor()\n",
    "}\n",
    "\n",
    "# Function to evaluate models\n",
    "def evaluate_model(model, X, y, name):\n",
    "    kfold = KFold(n_splits=5, shuffle=True, random_state=42)\n",
    "    cv_scores = cross_val_score(model, X, y, cv=kfold, scoring='r2')\n",
    "    model.fit(X, y)\n",
    "    y_pred = model.predict(X)\n",
    "    mae = mean_absolute_error(y, y_pred)\n",
    "    mse = mean_squared_error(y, y_pred)\n",
    "    r2 = r2_score(y, y_pred)\n",
    "    \n",
    "    print(f\"{name} - MAE: {mae}, MSE: {mse}, R2-Score: {r2}\")\n",
    "    \n",
    "    # Save model and metrics\n",
    "    with open(f'{name}_Baseline.pkl', 'wb') as file:\n",
    "        pickle.dump(model, file)\n",
    "    \n",
    "    return mae, mse, r2\n",
    "\n",
    "# Evaluate each model\n",
    "results = {}\n",
    "for name, model in models.items():\n",
    "    results[name] = evaluate_model(model, X_train, y_train, name)\n"
   ]
  },
  {
   "cell_type": "code",
   "execution_count": 14,
   "id": "ac3dbe61-82f3-445c-8230-8a00f4135318",
   "metadata": {},
   "outputs": [
    {
     "name": "stdout",
     "output_type": "stream",
     "text": [
      "RFE_RandomForest - MAE: 24.091928532597287, MSE: 1041.0069762487667, R2-Score: 0.9647705047415189\n",
      "RFE_XGBoost - MAE: 1.2724887865292411, MSE: 3.1182266537033527, R2-Score: 0.9998944737608702\n"
     ]
    }
   ],
   "source": [
    "def feature_selection_and_evaluation(model, X, y, name_prefix):\n",
    "    selector = RFE(model, n_features_to_select=5)  # Adjust n_features accordingly\n",
    "    selector.fit(X, y)\n",
    "    features = X.columns[selector.support_]\n",
    "    \n",
    "    # Save selected features to JSON\n",
    "    with open(f'Features_{name_prefix}.json', 'w') as file:\n",
    "        json.dump(features.tolist(), file)\n",
    "    \n",
    "    # Evaluate model with selected features\n",
    "    mae, mse, r2 = evaluate_model(model, X[features], y, name_prefix)\n",
    "    return mae, mse, r2, features\n",
    "\n",
    "# Perform feature selection and evaluation for RF and XGB with RFE\n",
    "for name in ['RandomForest', 'XGBoost']:\n",
    "    feature_selection_and_evaluation(models[name], X_train, y_train, f'RFE_{name}')\n"
   ]
  },
  {
   "cell_type": "code",
   "execution_count": 16,
   "id": "ec84d76f-dd13-4236-936e-ad7f53759457",
   "metadata": {},
   "outputs": [
    {
     "name": "stdout",
     "output_type": "stream",
     "text": [
      "66.81532170970394\n"
     ]
    },
    {
     "data": {
      "image/png": "[encoded data removed]",
      "text/plain": [
       "<Figure size 640x480 with 1 Axes>"
      ]
     },
     "metadata": {},
     "output_type": "display_data"
    }
   ],
   "source": [
    "# Load results for analysis (if needed from disk)\n",
    "with open('RandomForest_Baseline.pkl', 'rb') as file:\n",
    "    rf_model = pickle.load(file)\n",
    "\n",
    "# Use the loaded model for further predictions or analysis\n",
    "y_pred = rf_model.predict(X_test)\n",
    "print(mean_absolute_error(y_test, y_pred))\n",
    "\n",
    "# Visualization of feature importances (for RF as an example)\n",
    "importances = rf_model.feature_importances_\n",
    "indices = np.argsort(importances)\n",
    "plt.title('Feature Importances')\n",
    "plt.barh(range(len(indices)), importances[indices], color='b', align='center')\n",
    "plt.yticks(range(len(indices)), [X.columns[i] for i in indices])\n",
    "plt.xlabel('Relative Importance')\n",
    "plt.show()\n"
   ]
  },
  {
   "cell_type": "code",
   "execution_count": null,
   "id": "8de33bd9-6052-41e3-a865-234897bb5b32",
   "metadata": {},
   "outputs": [],
   "source": []
  }
 ],
 "metadata": {
  "kernelspec": {
   "display_name": "Python [conda env:base] *",
   "language": "python",
   "name": "conda-base-py"
  },
  "language_info": {
   "codemirror_mode": {
    "name": "ipython",
    "version": 3
   },
   "file_extension": ".py",
   "mimetype": "text/x-python",
   "name": "python",
   "nbconvert_exporter": "python",
   "pygments_lexer": "ipython3",
   "version": "3.12.7"
  }
 },
 "nbformat": 4,
 "nbformat_minor": 5
}
